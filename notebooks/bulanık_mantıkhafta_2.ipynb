{
  "nbformat": 4,
  "nbformat_minor": 0,
  "metadata": {
    "colab": {
      "provenance": [],
      "authorship_tag": "ABX9TyMYQm3JBVYYVMl5/C1TT7T/",
      "include_colab_link": true
    },
    "kernelspec": {
      "name": "python3",
      "display_name": "Python 3"
    },
    "language_info": {
      "name": "python"
    }
  },
  "cells": [
    {
      "cell_type": "markdown",
      "metadata": {
        "id": "view-in-github",
        "colab_type": "text"
      },
      "source": [
        "<a href=\"https://colab.research.google.com/github/mustafabozkaya/liseyapayzeka/blob/main/notebooks/bulan%C4%B1k_mant%C4%B1khafta_2.ipynb\" target=\"_parent\"><img src=\"https://colab.research.google.com/assets/colab-badge.svg\" alt=\"Open In Colab\"/></a>"
      ]
    },
    {
      "cell_type": "code",
      "source": [
        "!pip install scikit-fuzzy"
      ],
      "metadata": {
        "colab": {
          "base_uri": "https://localhost:8080/"
        },
        "id": "ABaulA0BilDq",
        "outputId": "50a1afad-a8eb-41eb-c61f-6d76c11fc947"
      },
      "execution_count": null,
      "outputs": [
        {
          "output_type": "stream",
          "name": "stdout",
          "text": [
            "Looking in indexes: https://pypi.org/simple, https://us-python.pkg.dev/colab-wheels/public/simple/\n",
            "Collecting scikit-fuzzy\n",
            "  Downloading scikit-fuzzy-0.4.2.tar.gz (993 kB)\n",
            "\u001b[2K     \u001b[90m━━━━━━━━━━━━━━━━━━━━━━━━━━━━━━━━━━━━━━\u001b[0m \u001b[32m994.0/994.0 KB\u001b[0m \u001b[31m15.6 MB/s\u001b[0m eta \u001b[36m0:00:00\u001b[0m\n",
            "\u001b[?25h  Preparing metadata (setup.py) ... \u001b[?25l\u001b[?25hdone\n",
            "Requirement already satisfied: numpy>=1.6.0 in /usr/local/lib/python3.8/dist-packages (from scikit-fuzzy) (1.21.6)\n",
            "Requirement already satisfied: scipy>=0.9.0 in /usr/local/lib/python3.8/dist-packages (from scikit-fuzzy) (1.7.3)\n",
            "Requirement already satisfied: networkx>=1.9.0 in /usr/local/lib/python3.8/dist-packages (from scikit-fuzzy) (3.0)\n",
            "Building wheels for collected packages: scikit-fuzzy\n",
            "  Building wheel for scikit-fuzzy (setup.py) ... \u001b[?25l\u001b[?25hdone\n",
            "  Created wheel for scikit-fuzzy: filename=scikit_fuzzy-0.4.2-py3-none-any.whl size=894088 sha256=20145a3f8d4b2b79cd6ce9da43c2913a7a8cce5bdfe91b5cf874251aaa6cafe6\n",
            "  Stored in directory: /root/.cache/pip/wheels/2c/04/80/7eefb1a2de7d36aefd06432fab2a1486caf0a0596a7067391a\n",
            "Successfully built scikit-fuzzy\n",
            "Installing collected packages: scikit-fuzzy\n",
            "Successfully installed scikit-fuzzy-0.4.2\n"
          ]
        }
      ]
    },
    {
      "cell_type": "code",
      "source": [
        "import numpy as np\n",
        "import skfuzzy as skf\n",
        "from skfuzzy import control as cnt\n",
        "\n",
        "\n",
        "\n",
        "\n"
      ],
      "metadata": {
        "id": "9yCOO-t3ktTB"
      },
      "execution_count": null,
      "outputs": []
    },
    {
      "cell_type": "code",
      "source": [
        "list=[\"ahmet\",45,45.6]"
      ],
      "metadata": {
        "id": "FBpMWvc9xfUP"
      },
      "execution_count": null,
      "outputs": []
    },
    {
      "cell_type": "code",
      "source": [
        "arr=np.array(list)"
      ],
      "metadata": {
        "id": "spm0D4X3xoiJ"
      },
      "execution_count": null,
      "outputs": []
    },
    {
      "cell_type": "code",
      "source": [
        "arr"
      ],
      "metadata": {
        "colab": {
          "base_uri": "https://localhost:8080/"
        },
        "id": "85KBfUB0x39i",
        "outputId": "0eb91666-b4b9-4d9d-d1d1-ae7b9d5325c9"
      },
      "execution_count": null,
      "outputs": [
        {
          "output_type": "execute_result",
          "data": {
            "text/plain": [
              "array(['ahmet', '45', '45.6'], dtype='<U32')"
            ]
          },
          "metadata": {},
          "execution_count": 49
        }
      ]
    },
    {
      "cell_type": "code",
      "source": [
        "?np.arange"
      ],
      "metadata": {
        "id": "cfFaVhq0xKJB"
      },
      "execution_count": null,
      "outputs": []
    },
    {
      "cell_type": "code",
      "source": [
        "bulasik_miktari = cnt.Antecedent(np.arange(0, 100, 1), 'bulaşık miktarı')\n",
        "kirlilik = cnt.Antecedent( np.arange(0, 100, 1), 'kirlilik seviyesi')\n"
      ],
      "metadata": {
        "id": "LvwNPKVpwrgy"
      },
      "execution_count": null,
      "outputs": []
    },
    {
      "cell_type": "code",
      "source": [
        "yikama= cnt.Consequent(np.arange(0, 180, 1),'yıkama süresi')"
      ],
      "metadata": {
        "id": "Ns4H5S25lMbF"
      },
      "execution_count": null,
      "outputs": []
    },
    {
      "cell_type": "code",
      "source": [
        " Bulaşık makinası bulanık kontrol sistemi için kural tablosu\n",
        "Giriş parametreleri                Çıkış parametresi\n",
        "Kurallar Bulaşık Miktarı Kirlilik    Yıkama zamanı\n",
        "\n",
        "Kural-1 Az Az Kısa\n",
        "Kural-2 Normal Az Normal\n",
        "Kural-3 Çok Az Normal\n",
        "Kural-4 Az Normal Normal\n",
        "Kural-5 Normal Normal Uzun\n",
        "Kural-6 Çok Normal Uzun\n",
        "Kural-7 Az Çok Normal\n",
        "Kural-8 Normal Çok Uzun\n",
        "Kural-9 Çok Çok Uzun"
      ],
      "metadata": {
        "id": "OogK51FWk5NV"
      },
      "execution_count": null,
      "outputs": []
    },
    {
      "cell_type": "code",
      "source": [
        "\n",
        "bulasik_miktari['az'] = skf.trimf(bulasik_miktari.universe, [0, 0, 30])\n",
        "bulasik_miktari['normal'] = skf.trimf(bulasik_miktari.universe, [10, 30, 60])\n",
        "bulasik_miktari['çok'] = skf.trimf(bulasik_miktari.universe, [50, 60, 100])\n",
        "kirlilik['az'] = skf.trimf(kirlilik.universe, [0, 0, 30])\n",
        "kirlilik['normal'] = skf.trimf(kirlilik.universe, [10, 30, 60])\n",
        "kirlilik['çok'] = skf.trimf(kirlilik.universe, [50, 60, 100])"
      ],
      "metadata": {
        "id": "JdzgBtGZz_nv"
      },
      "execution_count": null,
      "outputs": []
    },
    {
      "cell_type": "code",
      "source": [
        "bulasik_miktari[\"çok\"]"
      ],
      "metadata": {
        "colab": {
          "base_uri": "https://localhost:8080/"
        },
        "id": "A_Ee5TSl0rUL",
        "outputId": "272891cb-a30f-4183-a504-82fa10bd739c"
      },
      "execution_count": null,
      "outputs": [
        {
          "output_type": "execute_result",
          "data": {
            "text/plain": [
              "bulaşık miktarı[çok]"
            ]
          },
          "metadata": {},
          "execution_count": 58
        }
      ]
    },
    {
      "cell_type": "code",
      "source": [
        "yikama['kisa'] = skf.trimf(yikama.universe, [0, 0, 50])\n",
        "yikama['normal'] = skf.trimf(yikama.universe, [40, 50, 100])\n",
        "yikama['uzun'] = skf.trimf(yikama.universe, [60, 80, 180])"
      ],
      "metadata": {
        "id": "oU1P1AiL07se"
      },
      "execution_count": null,
      "outputs": []
    },
    {
      "cell_type": "code",
      "source": [
        "yikama[\"normal\"]"
      ],
      "metadata": {
        "colab": {
          "base_uri": "https://localhost:8080/"
        },
        "id": "D-nClxqZ1hy5",
        "outputId": "f33f9ba2-5cef-4c9a-b963-ee3f41de1fd4"
      },
      "execution_count": null,
      "outputs": [
        {
          "output_type": "execute_result",
          "data": {
            "text/plain": [
              "yıkama süresi[normal]"
            ]
          },
          "metadata": {},
          "execution_count": 61
        }
      ]
    },
    {
      "cell_type": "code",
      "source": [
        "kural1 = cnt.Rule(bulasik_miktari['az'] & kirlilik['az'], yikama['kisa'])\n",
        "kural2 = cnt.Rule(bulasik_miktari['normal'] & kirlilik['az'], yikama['normal'])\n",
        "kural3 = cnt.Rule(bulasik_miktari['çok'] & kirlilik['az'], yikama['normal'])\n",
        "kural4 = cnt.Rule(bulasik_miktari['az'] & kirlilik['normal'], yikama['normal'])\n",
        "kural5 = cnt.Rule(bulasik_miktari['normal'] & kirlilik['normal'], yikama['uzun'])\n",
        "kural6 = cnt.Rule(bulasik_miktari['çok'] & kirlilik['normal'], yikama['uzun'])\n",
        "kural7 = cnt.Rule(bulasik_miktari['az'] & kirlilik['çok'], yikama['normal'])\n",
        "kural8 = cnt.Rule(bulasik_miktari['normal'] & kirlilik['çok'], yikama['uzun'])\n",
        "kural9 = cnt.Rule(bulasik_miktari['çok'] & kirlilik['çok'], yikama['uzun'])"
      ],
      "metadata": {
        "id": "G0vx0ZxP1k_9"
      },
      "execution_count": null,
      "outputs": []
    },
    {
      "cell_type": "code",
      "source": [
        "\n",
        "bulanıksistem = cnt.ControlSystem([kural1, kural2, kural3, kural4, kural5, kural6, kural7, kural8, kural9])\n",
        "model_sonuc = cnt.ControlSystemSimulation(bulanıksistem) "
      ],
      "metadata": {
        "id": "-nxtMAW74fFP"
      },
      "execution_count": null,
      "outputs": []
    },
    {
      "cell_type": "code",
      "source": [
        "model_sonuc.input['bulaşık miktarı'] = 100\n",
        "model_sonuc.input['kirlilik seviyesi']= 100"
      ],
      "metadata": {
        "id": "OigNamgN6IuQ"
      },
      "execution_count": null,
      "outputs": []
    },
    {
      "cell_type": "code",
      "source": [
        "model_sonuc.compute()"
      ],
      "metadata": {
        "id": "MUpf9bps6cLq"
      },
      "execution_count": null,
      "outputs": []
    },
    {
      "cell_type": "code",
      "source": [
        "print (model_sonuc.output['yıkama süresi'])"
      ],
      "metadata": {
        "colab": {
          "base_uri": "https://localhost:8080/"
        },
        "id": "dybP1q2y6sDE",
        "outputId": "d57bf93b-b13a-43b9-c8c4-607767e93281"
      },
      "execution_count": null,
      "outputs": [
        {
          "output_type": "stream",
          "name": "stdout",
          "text": [
            "119.40095801634287\n"
          ]
        }
      ]
    },
    {
      "cell_type": "code",
      "source": [
        "import numpy as mat\n",
        "import skfuzzy as mantik\n",
        "from skfuzzy import control as kontrol\n",
        "\n",
        "mesafe = kontrol.Antecedent(mat.arange(0, 50, 1), 'mesafe')\n",
        "hiz = kontrol.Antecedent( mat.arange(0, 100, 1), 'hiz')\n",
        "fren_basinci = kontrol.Consequent(mat.arange(0, 100, 1),'fren_basinci')\n",
        "\n",
        "mesafe['çok yakın'] = mantik.trimf(mesafe.universe, [0, 0, 10])\n",
        "mesafe['yakın'] = mantik.trimf(mesafe.universe, [5, 15, 25])\n",
        "mesafe['uzak'] = mantik.trimf(mesafe.universe, [20, 30, 40])\n",
        "mesafe['çok uzak'] = mantik.trimf(mesafe.universe, [35, 50, 50])\n",
        "\n",
        "hiz['çok yavaş'] = mantik.trapmf(hiz.universe, [0, 0, 20, 30])\n",
        "hiz['yavaş'] = mantik.trapmf(hiz.universe, [20, 30, 45, 55])\n",
        "hiz['hızlı'] = mantik.trapmf(hiz.universe, [45, 55, 70, 80])\n",
        "hiz['çok hızlı'] = mantik.trapmf(hiz.universe, [70, 80, 100,100])\n",
        "\n",
        "fren_basinci['çok düşük'] = mantik.trimf(fren_basinci.universe, [0, 20, 40])\n",
        "fren_basinci['düşük'] = mantik.trimf(fren_basinci.universe, [20, 40, 60])\n",
        "fren_basinci['yüksek'] = mantik.trimf(fren_basinci.universe, [40, 60, 80])\n",
        "fren_basinci['çok yüksek'] = mantik.trimf(fren_basinci.universe, [60, 100, 100])\n",
        "\n",
        "kural1 = kontrol.Rule(mesafe['çok yakın'] & hiz['çok yavaş'] , fren_basinci['çok yüksek'])\n",
        "kural2 = kontrol.Rule(mesafe['yakın'] & hiz['çok yavaş'] , fren_basinci['çok düşük'])\n",
        "kural3 = kontrol.Rule(mesafe['çok yakın'] & hiz['yavaş'] , fren_basinci['çok yüksek'])\n",
        "kural4 = kontrol.Rule(mesafe['yakın'] & hiz['yavaş'] , fren_basinci['düşük'])\n",
        "kural5 = kontrol.Rule(mesafe['uzak'] & hiz['yavaş'] , fren_basinci['çok düşük'])\n",
        "kural6 = kontrol.Rule(mesafe['çok yakın'] & hiz['hızlı'] , fren_basinci['çok yüksek'])\n",
        "kural7 = kontrol.Rule(mesafe['yakın'] & hiz['hızlı'] , fren_basinci['düşük'])\n",
        "kural8 = kontrol.Rule(mesafe['uzak'] & hiz['hızlı'] , fren_basinci['çok düşük'])\n",
        "kural9 = kontrol.Rule(mesafe['çok yakın'] & hiz['çok hızlı'] , fren_basinci['çok yüksek'])\n",
        "kural10 = kontrol.Rule(mesafe['yakın'] & hiz['çok hızlı'] , fren_basinci['yüksek'])\n",
        "kural11 = kontrol.Rule(mesafe['uzak'] & hiz['çok hızlı'] , fren_basinci['düşük'])\n",
        "kural12 = kontrol.Rule(mesafe['çok uzak'] & hiz['çok hızlı'] , fren_basinci['çok düşük'])\n",
        "\n",
        "fren_kontrol = kontrol.ControlSystem([kural1, kural2, kural3, kural4, kural5,kural6,\n",
        "                                       kural7, kural8, kural9, kural10, kural11, kural12])                                    \n",
        "frenleme = kontrol.ControlSystemSimulation(fren_kontrol)\n",
        "\n"
      ],
      "metadata": {
        "id": "ZFGmKbsw60eV"
      },
      "execution_count": null,
      "outputs": []
    },
    {
      "cell_type": "code",
      "source": [
        "v = int(input(\"Hızı gir (0-100 km/h) : \"))\n",
        "s = int(input(\"mesafeyi gir (m) : \"))\n",
        "frenleme.input['hiz'] = v\n",
        "frenleme.input['mesafe'] = s\n",
        "frenleme.compute()\n",
        "if (v/3<= s):\n",
        "        print (\"fren basılması gerek yoktur\")\n",
        "        print (\"fren basıncı (%): \", frenleme.output['fren_basinci'])\n",
        "else:\n",
        "    \n",
        "    print (\"fren basıncı (%): \", frenleme.output['fren_basinci'])\n",
        "    print (\"yeni hiz değeri: \", v-(v*frenleme.output['fren_basinci']/100))"
      ],
      "metadata": {
        "colab": {
          "base_uri": "https://localhost:8080/"
        },
        "id": "VH9ZWkpW9kim",
        "outputId": "eac37f4c-e6e3-4974-c3ed-f1a337a69389"
      },
      "execution_count": null,
      "outputs": [
        {
          "output_type": "stream",
          "name": "stdout",
          "text": [
            "Hızı gir (0-100 km/h) : 50\n",
            "mesafeyi gir (m) : 30\n",
            "fren basılması gerek yoktur\n",
            "fren basıncı (%):  20.0\n"
          ]
        }
      ]
    },
    {
      "cell_type": "code",
      "source": [],
      "metadata": {
        "id": "fOiW43ct9lmf"
      },
      "execution_count": null,
      "outputs": []
    }
  ]
}