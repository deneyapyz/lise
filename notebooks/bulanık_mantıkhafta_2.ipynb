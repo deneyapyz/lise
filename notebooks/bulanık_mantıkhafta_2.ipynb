{
  "nbformat": 4,
  "nbformat_minor": 0,
  "metadata": {
    "colab": {
      "provenance": [],
      "authorship_tag": "ABX9TyMdwYfmtnv4p5Zo2cZklf7K",
      "include_colab_link": true
    },
    "kernelspec": {
      "name": "python3",
      "display_name": "Python 3"
    },
    "language_info": {
      "name": "python"
    }
  },
  "cells": [
    {
      "cell_type": "markdown",
      "metadata": {
        "id": "view-in-github",
        "colab_type": "text"
      },
      "source": [
        "<a href=\"https://colab.research.google.com/github/mustafabozkaya/liseyapayzeka/blob/main/notebooks/bulan%C4%B1k_mant%C4%B1khafta_2.ipynb\" target=\"_parent\"><img src=\"https://colab.research.google.com/assets/colab-badge.svg\" alt=\"Open In Colab\"/></a>"
      ]
    },
    {
      "cell_type": "code",
      "execution_count": null,
      "metadata": {
        "colab": {
          "base_uri": "https://localhost:8080/"
        },
        "id": "jbGsZHhSXT9I",
        "outputId": "ba88f8be-999e-409a-ab74-33611cd9dc02"
      },
      "outputs": [
        {
          "output_type": "stream",
          "name": "stdout",
          "text": [
            "['sepal length (cm)', 'sepal width (cm)', 'petal length (cm)', 'petal width (cm)']\n",
            "['setosa' 'versicolor' 'virginica']\n",
            "[0 0 0 0 0 0 0 0 0 0 0 0 0 0 0 0 0 0 0 0 0 0 0 0 0 0 0 0 0 0 0 0 0 0 0 0 0\n",
            " 0 0 0 0 0 0 0 0 0 0 0 0 0 1 1 1 1 1 1 1 1 1 1 1 1 1 1 1 1 1 1 1 1 1 1 1 1\n",
            " 1 1 1 1 1 1 1 1 1 1 1 1 1 1 1 1 1 1 1 1 1 1 1 1 1 1 2 2 2 2 2 2 2 2 2 2 2\n",
            " 2 2 2 2 2 2 2 2 2 2 2 2 2 2 2 2 2 2 2 2 2 2 2 2 2 2 2 2 2 2 2 2 2 2 2 2 2\n",
            " 2 2]\n",
            "[[5.1 3.5 1.4 0.2]\n",
            " [4.9 3.  1.4 0.2]\n",
            " [4.7 3.2 1.3 0.2]\n",
            " [4.6 3.1 1.5 0.2]\n",
            " [5.  3.6 1.4 0.2]\n",
            " [5.4 3.9 1.7 0.4]\n",
            " [4.6 3.4 1.4 0.3]\n",
            " [5.  3.4 1.5 0.2]\n",
            " [4.4 2.9 1.4 0.2]\n",
            " [4.9 3.1 1.5 0.1]\n",
            " [5.4 3.7 1.5 0.2]\n",
            " [4.8 3.4 1.6 0.2]\n",
            " [4.8 3.  1.4 0.1]\n",
            " [4.3 3.  1.1 0.1]\n",
            " [5.8 4.  1.2 0.2]\n",
            " [5.7 4.4 1.5 0.4]\n",
            " [5.4 3.9 1.3 0.4]\n",
            " [5.1 3.5 1.4 0.3]\n",
            " [5.7 3.8 1.7 0.3]\n",
            " [5.1 3.8 1.5 0.3]\n",
            " [5.4 3.4 1.7 0.2]\n",
            " [5.1 3.7 1.5 0.4]\n",
            " [4.6 3.6 1.  0.2]\n",
            " [5.1 3.3 1.7 0.5]\n",
            " [4.8 3.4 1.9 0.2]\n",
            " [5.  3.  1.6 0.2]\n",
            " [5.  3.4 1.6 0.4]\n",
            " [5.2 3.5 1.5 0.2]\n",
            " [5.2 3.4 1.4 0.2]\n",
            " [4.7 3.2 1.6 0.2]\n",
            " [4.8 3.1 1.6 0.2]\n",
            " [5.4 3.4 1.5 0.4]\n",
            " [5.2 4.1 1.5 0.1]\n",
            " [5.5 4.2 1.4 0.2]\n",
            " [4.9 3.1 1.5 0.2]\n",
            " [5.  3.2 1.2 0.2]\n",
            " [5.5 3.5 1.3 0.2]\n",
            " [4.9 3.6 1.4 0.1]\n",
            " [4.4 3.  1.3 0.2]\n",
            " [5.1 3.4 1.5 0.2]\n",
            " [5.  3.5 1.3 0.3]\n",
            " [4.5 2.3 1.3 0.3]\n",
            " [4.4 3.2 1.3 0.2]\n",
            " [5.  3.5 1.6 0.6]\n",
            " [5.1 3.8 1.9 0.4]\n",
            " [4.8 3.  1.4 0.3]\n",
            " [5.1 3.8 1.6 0.2]\n",
            " [4.6 3.2 1.4 0.2]\n",
            " [5.3 3.7 1.5 0.2]\n",
            " [5.  3.3 1.4 0.2]\n",
            " [7.  3.2 4.7 1.4]\n",
            " [6.4 3.2 4.5 1.5]\n",
            " [6.9 3.1 4.9 1.5]\n",
            " [5.5 2.3 4.  1.3]\n",
            " [6.5 2.8 4.6 1.5]\n",
            " [5.7 2.8 4.5 1.3]\n",
            " [6.3 3.3 4.7 1.6]\n",
            " [4.9 2.4 3.3 1. ]\n",
            " [6.6 2.9 4.6 1.3]\n",
            " [5.2 2.7 3.9 1.4]\n",
            " [5.  2.  3.5 1. ]\n",
            " [5.9 3.  4.2 1.5]\n",
            " [6.  2.2 4.  1. ]\n",
            " [6.1 2.9 4.7 1.4]\n",
            " [5.6 2.9 3.6 1.3]\n",
            " [6.7 3.1 4.4 1.4]\n",
            " [5.6 3.  4.5 1.5]\n",
            " [5.8 2.7 4.1 1. ]\n",
            " [6.2 2.2 4.5 1.5]\n",
            " [5.6 2.5 3.9 1.1]\n",
            " [5.9 3.2 4.8 1.8]\n",
            " [6.1 2.8 4.  1.3]\n",
            " [6.3 2.5 4.9 1.5]\n",
            " [6.1 2.8 4.7 1.2]\n",
            " [6.4 2.9 4.3 1.3]\n",
            " [6.6 3.  4.4 1.4]\n",
            " [6.8 2.8 4.8 1.4]\n",
            " [6.7 3.  5.  1.7]\n",
            " [6.  2.9 4.5 1.5]\n",
            " [5.7 2.6 3.5 1. ]\n",
            " [5.5 2.4 3.8 1.1]\n",
            " [5.5 2.4 3.7 1. ]\n",
            " [5.8 2.7 3.9 1.2]\n",
            " [6.  2.7 5.1 1.6]\n",
            " [5.4 3.  4.5 1.5]\n",
            " [6.  3.4 4.5 1.6]\n",
            " [6.7 3.1 4.7 1.5]\n",
            " [6.3 2.3 4.4 1.3]\n",
            " [5.6 3.  4.1 1.3]\n",
            " [5.5 2.5 4.  1.3]\n",
            " [5.5 2.6 4.4 1.2]\n",
            " [6.1 3.  4.6 1.4]\n",
            " [5.8 2.6 4.  1.2]\n",
            " [5.  2.3 3.3 1. ]\n",
            " [5.6 2.7 4.2 1.3]\n",
            " [5.7 3.  4.2 1.2]\n",
            " [5.7 2.9 4.2 1.3]\n",
            " [6.2 2.9 4.3 1.3]\n",
            " [5.1 2.5 3.  1.1]\n",
            " [5.7 2.8 4.1 1.3]\n",
            " [6.3 3.3 6.  2.5]\n",
            " [5.8 2.7 5.1 1.9]\n",
            " [7.1 3.  5.9 2.1]\n",
            " [6.3 2.9 5.6 1.8]\n",
            " [6.5 3.  5.8 2.2]\n",
            " [7.6 3.  6.6 2.1]\n",
            " [4.9 2.5 4.5 1.7]\n",
            " [7.3 2.9 6.3 1.8]\n",
            " [6.7 2.5 5.8 1.8]\n",
            " [7.2 3.6 6.1 2.5]\n",
            " [6.5 3.2 5.1 2. ]\n",
            " [6.4 2.7 5.3 1.9]\n",
            " [6.8 3.  5.5 2.1]\n",
            " [5.7 2.5 5.  2. ]\n",
            " [5.8 2.8 5.1 2.4]\n",
            " [6.4 3.2 5.3 2.3]\n",
            " [6.5 3.  5.5 1.8]\n",
            " [7.7 3.8 6.7 2.2]\n",
            " [7.7 2.6 6.9 2.3]\n",
            " [6.  2.2 5.  1.5]\n",
            " [6.9 3.2 5.7 2.3]\n",
            " [5.6 2.8 4.9 2. ]\n",
            " [7.7 2.8 6.7 2. ]\n",
            " [6.3 2.7 4.9 1.8]\n",
            " [6.7 3.3 5.7 2.1]\n",
            " [7.2 3.2 6.  1.8]\n",
            " [6.2 2.8 4.8 1.8]\n",
            " [6.1 3.  4.9 1.8]\n",
            " [6.4 2.8 5.6 2.1]\n",
            " [7.2 3.  5.8 1.6]\n",
            " [7.4 2.8 6.1 1.9]\n",
            " [7.9 3.8 6.4 2. ]\n",
            " [6.4 2.8 5.6 2.2]\n",
            " [6.3 2.8 5.1 1.5]\n",
            " [6.1 2.6 5.6 1.4]\n",
            " [7.7 3.  6.1 2.3]\n",
            " [6.3 3.4 5.6 2.4]\n",
            " [6.4 3.1 5.5 1.8]\n",
            " [6.  3.  4.8 1.8]\n",
            " [6.9 3.1 5.4 2.1]\n",
            " [6.7 3.1 5.6 2.4]\n",
            " [6.9 3.1 5.1 2.3]\n",
            " [5.8 2.7 5.1 1.9]\n",
            " [6.8 3.2 5.9 2.3]\n",
            " [6.7 3.3 5.7 2.5]\n",
            " [6.7 3.  5.2 2.3]\n",
            " [6.3 2.5 5.  1.9]\n",
            " [6.5 3.  5.2 2. ]\n",
            " [6.2 3.4 5.4 2.3]\n",
            " [5.9 3.  5.1 1.8]]\n",
            "Eğitim veri seti boyutu= 120\n",
            "Test veri seti boyutu= 30\n"
          ]
        }
      ],
      "source": [
        "\n",
        "\n",
        "from sklearn.datasets import load_iris\n",
        "iris = load_iris()\n",
        "print (iris.feature_names)\n",
        "print (iris.target_names)\n",
        "print (iris.target)\n",
        "print (iris.data)\n",
        "X = iris.data\n",
        "Y = iris.target\n",
        "from sklearn.model_selection import train_test_split\n",
        "X_train, X_test, Y_train, Y_test = train_test_split(X, Y, test_size = 0.20, random_state = 0)\n",
        "print(\"Eğitim veri seti boyutu=\",len(X_train))\n",
        "print(\"Test veri seti boyutu=\",len(X_test))\n"
      ]
    },
    {
      "cell_type": "code",
      "source": [
        "from sklearn.tree import DecisionTreeClassifier\n",
        "model = DecisionTreeClassifier()\n",
        "model.fit(X_train,Y_train)\n",
        "Y_tahmin = model.predict(X_test)\n",
        "from sklearn.metrics import confusion_matrix\n",
        "hata_matrisi = confusion_matrix(Y_test, Y_tahmin)\n",
        "print(hata_matrisi)\n",
        "import seaborn as sns\n",
        "import pandas as pd\n",
        "import matplotlib.pyplot as plt\n",
        "index = ['setosa','versicolor','virginica'] \n",
        "columns = ['setosa','versicolor','virginica'] \n",
        "hata_goster = pd.DataFrame(hata_matrisi,columns,index)                      \n",
        "plt.figure(figsize=(10,6))  \n",
        "sns.heatmap(hata_goster, annot=True)"
      ],
      "metadata": {
        "colab": {
          "base_uri": "https://localhost:8080/",
          "height": 443
        },
        "id": "hlb5Q8tHX28h",
        "outputId": "fca7460a-c5a9-4874-9632-b28b5cc1b867"
      },
      "execution_count": null,
      "outputs": [
        {
          "output_type": "stream",
          "name": "stdout",
          "text": [
            "[[11  0  0]\n",
            " [ 0 13  0]\n",
            " [ 0  0  6]]\n"
          ]
        },
        {
          "output_type": "execute_result",
          "data": {
            "text/plain": [
              "<matplotlib.axes._subplots.AxesSubplot at 0x7f12675fb220>"
            ]
          },
          "metadata": {},
          "execution_count": 3
        },
        {
          "output_type": "display_data",
          "data": {
            "text/plain": [
              "<Figure size 720x432 with 2 Axes>"
            ],
            "image/png": "[encoded data removed]"
          },
          "metadata": {
            "needs_background": "light"
          }
        }
      ]
    },
    {
      "cell_type": "code",
      "source": [
        "from sklearn.neighbors import KNeighborsClassifier\n",
        "model =  KNeighborsClassifier ()\n",
        "model.fit(X_train,Y_train)\n",
        "Y_tahmin = model.predict(X_test)\n",
        "from sklearn.metrics import confusion_matrix\n",
        "hata_matrisi = confusion_matrix(Y_test, Y_tahmin)\n",
        "print(hata_matrisi)\n",
        "import seaborn as sns\n",
        "import pandas as pd\n",
        "import matplotlib.pyplot as plt\n",
        "index = ['setosa','versicolor','virginica'] \n",
        "columns = ['setosa','versicolor','virginica'] \n",
        "hata_goster = pd.DataFrame(hata_matrisi,columns,index)                      \n",
        "plt.figure(figsize=(10,6))  \n",
        "sns.heatmap(hata_goster, annot=True)"
      ],
      "metadata": {
        "colab": {
          "base_uri": "https://localhost:8080/",
          "height": 447
        },
        "id": "6V9kD1BHXWra",
        "outputId": "97fb0232-1362-4bed-f993-ad66c11c9595"
      },
      "execution_count": null,
      "outputs": [
        {
          "output_type": "stream",
          "name": "stdout",
          "text": [
            "[[11  0  0]\n",
            " [ 0 12  1]\n",
            " [ 0  0  6]]\n"
          ]
        },
        {
          "output_type": "execute_result",
          "data": {
            "text/plain": [
              "<matplotlib.axes._subplots.AxesSubplot at 0x7f125470c760>"
            ]
          },
          "metadata": {},
          "execution_count": 4
        },
        {
          "output_type": "display_data",
          "data": {
            "text/plain": [
              "<Figure size 720x432 with 2 Axes>"
            ],
            "image/png": "[encoded data removed]"
          },
          "metadata": {
            "needs_background": "light"
          }
        }
      ]
    },
    {
      "cell_type": "code",
      "source": [
        "scaler=5"
      ],
      "metadata": {
        "id": "N-cCHQLVYtUh"
      },
      "execution_count": null,
      "outputs": []
    },
    {
      "cell_type": "code",
      "source": [
        "scaler\n"
      ],
      "metadata": {
        "colab": {
          "base_uri": "https://localhost:8080/"
        },
        "id": "edYSJHSxai2q",
        "outputId": "4037c59a-e20f-4006-f772-18a85a6b12c5"
      },
      "execution_count": null,
      "outputs": [
        {
          "output_type": "execute_result",
          "data": {
            "text/plain": [
              "5"
            ]
          },
          "metadata": {},
          "execution_count": 6
        }
      ]
    },
    {
      "cell_type": "code",
      "source": [
        "vektor=[15 ,45]"
      ],
      "metadata": {
        "id": "WXa7WVKZakq2"
      },
      "execution_count": null,
      "outputs": []
    },
    {
      "cell_type": "code",
      "source": [
        "vektor[1] # index olartak 1 demek listenmiin 2 elemanı"
      ],
      "metadata": {
        "colab": {
          "base_uri": "https://localhost:8080/"
        },
        "id": "qAAIS4Avbbiu",
        "outputId": "50aa5618-c478-4f88-d10b-11c7c5acde7a"
      },
      "execution_count": null,
      "outputs": [
        {
          "output_type": "execute_result",
          "data": {
            "text/plain": [
              "45"
            ]
          },
          "metadata": {},
          "execution_count": 16
        }
      ]
    },
    {
      "cell_type": "code",
      "source": [],
      "metadata": {
        "id": "IhUKupc9bw4D"
      },
      "execution_count": null,
      "outputs": []
    },
    {
      "cell_type": "code",
      "source": [
        "vektor[2]"
      ],
      "metadata": {
        "colab": {
          "base_uri": "https://localhost:8080/",
          "height": 165
        },
        "id": "ddn4V0gtbozF",
        "outputId": "15c4a6e5-5b7d-4790-82cf-dcaf4dba29d3"
      },
      "execution_count": null,
      "outputs": [
        {
          "output_type": "error",
          "ename": "IndexError",
          "evalue": "ignored",
          "traceback": [
            "\u001b[0;31m---------------------------------------------------------------------------\u001b[0m",
            "\u001b[0;31mIndexError\u001b[0m                                Traceback (most recent call last)",
            "\u001b[0;32m<ipython-input-17-8620ed1ce110>\u001b[0m in \u001b[0;36m<module>\u001b[0;34m\u001b[0m\n\u001b[0;32m----> 1\u001b[0;31m \u001b[0mvektor\u001b[0m\u001b[0;34m[\u001b[0m\u001b[0;36m2\u001b[0m\u001b[0;34m]\u001b[0m\u001b[0;34m\u001b[0m\u001b[0;34m\u001b[0m\u001b[0m\n\u001b[0m",
            "\u001b[0;31mIndexError\u001b[0m: list index out of range"
          ]
        }
      ]
    },
    {
      "cell_type": "code",
      "source": [
        "vektor[-1]"
      ],
      "metadata": {
        "colab": {
          "base_uri": "https://localhost:8080/"
        },
        "id": "W67aRizXbzPg",
        "outputId": "4442e3de-36f9-4433-ac24-d95de58719ee"
      },
      "execution_count": null,
      "outputs": [
        {
          "output_type": "execute_result",
          "data": {
            "text/plain": [
              "45"
            ]
          },
          "metadata": {},
          "execution_count": 18
        }
      ]
    },
    {
      "cell_type": "code",
      "source": [
        "matrix =[[15, 45],[25,46]]"
      ],
      "metadata": {
        "id": "asZJxchwbgta"
      },
      "execution_count": null,
      "outputs": []
    },
    {
      "cell_type": "code",
      "source": [
        "print(*matrix)"
      ],
      "metadata": {
        "colab": {
          "base_uri": "https://localhost:8080/"
        },
        "id": "tJaV5d4_cZCC",
        "outputId": "e18d93c8-fdea-4c57-df50-af4e1570651d"
      },
      "execution_count": null,
      "outputs": [
        {
          "output_type": "stream",
          "name": "stdout",
          "text": [
            "[15, 45] [25, 46]\n"
          ]
        }
      ]
    },
    {
      "cell_type": "code",
      "source": [
        "matrix[0]"
      ],
      "metadata": {
        "colab": {
          "base_uri": "https://localhost:8080/"
        },
        "id": "XMuzvNMwcdnp",
        "outputId": "5c28db66-0f48-453d-b5bf-0139d3500e13"
      },
      "execution_count": null,
      "outputs": [
        {
          "output_type": "execute_result",
          "data": {
            "text/plain": [
              "[15, 45]"
            ]
          },
          "metadata": {},
          "execution_count": 23
        }
      ]
    },
    {
      "cell_type": "code",
      "source": [
        "matrix[1]"
      ],
      "metadata": {
        "colab": {
          "base_uri": "https://localhost:8080/"
        },
        "id": "tN6VDDYxcxWe",
        "outputId": "cf7450d7-580d-4140-e83e-45681dbae97b"
      },
      "execution_count": null,
      "outputs": [
        {
          "output_type": "execute_result",
          "data": {
            "text/plain": [
              "[25, 46]"
            ]
          },
          "metadata": {},
          "execution_count": 24
        }
      ]
    },
    {
      "cell_type": "code",
      "source": [
        "matrix[0][0]"
      ],
      "metadata": {
        "colab": {
          "base_uri": "https://localhost:8080/"
        },
        "id": "R2JO-HcTc1rz",
        "outputId": "c8772d6f-c9da-498a-e92d-9a4d7d4b6a42"
      },
      "execution_count": null,
      "outputs": [
        {
          "output_type": "execute_result",
          "data": {
            "text/plain": [
              "15"
            ]
          },
          "metadata": {},
          "execution_count": 25
        }
      ]
    },
    {
      "cell_type": "code",
      "source": [
        "matrix[0][1]"
      ],
      "metadata": {
        "colab": {
          "base_uri": "https://localhost:8080/"
        },
        "id": "imt1zZrlc8E7",
        "outputId": "e9d13a85-1a23-4360-c109-4b4ee214c887"
      },
      "execution_count": null,
      "outputs": [
        {
          "output_type": "execute_result",
          "data": {
            "text/plain": [
              "45"
            ]
          },
          "metadata": {},
          "execution_count": 26
        }
      ]
    },
    {
      "cell_type": "code",
      "source": [
        "matrix[0][0]"
      ],
      "metadata": {
        "colab": {
          "base_uri": "https://localhost:8080/"
        },
        "id": "cLiQ7ttdc-Gr",
        "outputId": "9446b52a-fde9-43ad-a6aa-79f2a1669c61"
      },
      "execution_count": null,
      "outputs": [
        {
          "output_type": "execute_result",
          "data": {
            "text/plain": [
              "15"
            ]
          },
          "metadata": {},
          "execution_count": 29
        }
      ]
    },
    {
      "cell_type": "code",
      "source": [
        "matrix[1][1]\n",
        "\n"
      ],
      "metadata": {
        "colab": {
          "base_uri": "https://localhost:8080/"
        },
        "id": "jxREk2ZohnRt",
        "outputId": "1db4c250-d60f-45da-8b63-88273820399b"
      },
      "execution_count": null,
      "outputs": [
        {
          "output_type": "execute_result",
          "data": {
            "text/plain": [
              "46"
            ]
          },
          "metadata": {},
          "execution_count": 31
        }
      ]
    },
    {
      "cell_type": "code",
      "source": [
        "matrix2 =[[5, 4],[2,6]]"
      ],
      "metadata": {
        "id": "SgB3ULadh9xH"
      },
      "execution_count": null,
      "outputs": []
    },
    {
      "cell_type": "code",
      "source": [
        "tensor=[matrix,matrix2]"
      ],
      "metadata": {
        "id": "TFa2Rwrqhrcg"
      },
      "execution_count": null,
      "outputs": []
    },
    {
      "cell_type": "code",
      "source": [
        "tensor"
      ],
      "metadata": {
        "colab": {
          "base_uri": "https://localhost:8080/"
        },
        "id": "tq4pwCndiGYP",
        "outputId": "e42825ab-8158-4e89-8527-7752e3394a90"
      },
      "execution_count": null,
      "outputs": [
        {
          "output_type": "execute_result",
          "data": {
            "text/plain": [
              "[[[15, 45], [25, 46]], [[5, 4], [2, 6]]]"
            ]
          },
          "metadata": {},
          "execution_count": 34
        }
      ]
    },
    {
      "cell_type": "code",
      "source": [
        "tensor[0]"
      ],
      "metadata": {
        "colab": {
          "base_uri": "https://localhost:8080/"
        },
        "id": "AF5l_5NBiHrI",
        "outputId": "f91173fc-a371-41a8-9bde-cd7090bac170"
      },
      "execution_count": null,
      "outputs": [
        {
          "output_type": "execute_result",
          "data": {
            "text/plain": [
              "[[15, 45], [25, 46]]"
            ]
          },
          "metadata": {},
          "execution_count": 36
        }
      ]
    },
    {
      "cell_type": "code",
      "source": [
        "tensor[0][0][0]"
      ],
      "metadata": {
        "colab": {
          "base_uri": "https://localhost:8080/"
        },
        "id": "2OGcrDFUiZRG",
        "outputId": "f5732552-0d8b-45b8-df78-b99c8abe3e0e"
      },
      "execution_count": null,
      "outputs": [
        {
          "output_type": "execute_result",
          "data": {
            "text/plain": [
              "15"
            ]
          },
          "metadata": {},
          "execution_count": 37
        }
      ]
    },
    {
      "cell_type": "code",
      "source": [
        "!pip install scikit-fuzzy"
      ],
      "metadata": {
        "colab": {
          "base_uri": "https://localhost:8080/"
        },
        "id": "ABaulA0BilDq",
        "outputId": "50a1afad-a8eb-41eb-c61f-6d76c11fc947"
      },
      "execution_count": null,
      "outputs": [
        {
          "output_type": "stream",
          "name": "stdout",
          "text": [
            "Looking in indexes: https://pypi.org/simple, https://us-python.pkg.dev/colab-wheels/public/simple/\n",
            "Collecting scikit-fuzzy\n",
            "  Downloading scikit-fuzzy-0.4.2.tar.gz (993 kB)\n",
            "\u001b[2K     \u001b[90m━━━━━━━━━━━━━━━━━━━━━━━━━━━━━━━━━━━━━━\u001b[0m \u001b[32m994.0/994.0 KB\u001b[0m \u001b[31m15.6 MB/s\u001b[0m eta \u001b[36m0:00:00\u001b[0m\n",
            "\u001b[?25h  Preparing metadata (setup.py) ... \u001b[?25l\u001b[?25hdone\n",
            "Requirement already satisfied: numpy>=1.6.0 in /usr/local/lib/python3.8/dist-packages (from scikit-fuzzy) (1.21.6)\n",
            "Requirement already satisfied: scipy>=0.9.0 in /usr/local/lib/python3.8/dist-packages (from scikit-fuzzy) (1.7.3)\n",
            "Requirement already satisfied: networkx>=1.9.0 in /usr/local/lib/python3.8/dist-packages (from scikit-fuzzy) (3.0)\n",
            "Building wheels for collected packages: scikit-fuzzy\n",
            "  Building wheel for scikit-fuzzy (setup.py) ... \u001b[?25l\u001b[?25hdone\n",
            "  Created wheel for scikit-fuzzy: filename=scikit_fuzzy-0.4.2-py3-none-any.whl size=894088 sha256=20145a3f8d4b2b79cd6ce9da43c2913a7a8cce5bdfe91b5cf874251aaa6cafe6\n",
            "  Stored in directory: /root/.cache/pip/wheels/2c/04/80/7eefb1a2de7d36aefd06432fab2a1486caf0a0596a7067391a\n",
            "Successfully built scikit-fuzzy\n",
            "Installing collected packages: scikit-fuzzy\n",
            "Successfully installed scikit-fuzzy-0.4.2\n"
          ]
        }
      ]
    },
    {
      "cell_type": "code",
      "source": [
        "import numpy as np\n",
        "import skfuzzy as skf\n",
        "from skfuzzy import control as cnt\n",
        "\n",
        "\n",
        "\n",
        "\n"
      ],
      "metadata": {
        "id": "9yCOO-t3ktTB"
      },
      "execution_count": null,
      "outputs": []
    },
    {
      "cell_type": "code",
      "source": [
        "list=[\"ahmet\",45,45.6]"
      ],
      "metadata": {
        "id": "FBpMWvc9xfUP"
      },
      "execution_count": null,
      "outputs": []
    },
    {
      "cell_type": "code",
      "source": [
        "arr=np.array(list)"
      ],
      "metadata": {
        "id": "spm0D4X3xoiJ"
      },
      "execution_count": null,
      "outputs": []
    },
    {
      "cell_type": "code",
      "source": [
        "arr"
      ],
      "metadata": {
        "colab": {
          "base_uri": "https://localhost:8080/"
        },
        "id": "85KBfUB0x39i",
        "outputId": "0eb91666-b4b9-4d9d-d1d1-ae7b9d5325c9"
      },
      "execution_count": null,
      "outputs": [
        {
          "output_type": "execute_result",
          "data": {
            "text/plain": [
              "array(['ahmet', '45', '45.6'], dtype='<U32')"
            ]
          },
          "metadata": {},
          "execution_count": 49
        }
      ]
    },
    {
      "cell_type": "code",
      "source": [
        "?np.arange"
      ],
      "metadata": {
        "id": "cfFaVhq0xKJB"
      },
      "execution_count": null,
      "outputs": []
    },
    {
      "cell_type": "code",
      "source": [
        "bulasik_miktari = cnt.Antecedent(np.arange(0, 100, 1), 'bulaşık miktarı')\n",
        "kirlilik = cnt.Antecedent( np.arange(0, 100, 1), 'kirlilik seviyesi')\n"
      ],
      "metadata": {
        "id": "LvwNPKVpwrgy"
      },
      "execution_count": null,
      "outputs": []
    },
    {
      "cell_type": "code",
      "source": [
        "yikama= cnt.Consequent(np.arange(0, 180, 1),'yıkama süresi')"
      ],
      "metadata": {
        "id": "Ns4H5S25lMbF"
      },
      "execution_count": null,
      "outputs": []
    },
    {
      "cell_type": "code",
      "source": [
        " Bulaşık makinası bulanık kontrol sistemi için kural tablosu\n",
        "Giriş parametreleri                Çıkış parametresi\n",
        "Kurallar Bulaşık Miktarı Kirlilik    Yıkama zamanı\n",
        "\n",
        "Kural-1 Az Az Kısa\n",
        "Kural-2 Normal Az Normal\n",
        "Kural-3 Çok Az Normal\n",
        "Kural-4 Az Normal Normal\n",
        "Kural-5 Normal Normal Uzun\n",
        "Kural-6 Çok Normal Uzun\n",
        "Kural-7 Az Çok Normal\n",
        "Kural-8 Normal Çok Uzun\n",
        "Kural-9 Çok Çok Uzun"
      ],
      "metadata": {
        "id": "OogK51FWk5NV"
      },
      "execution_count": null,
      "outputs": []
    },
    {
      "cell_type": "code",
      "source": [
        "\n",
        "bulasik_miktari['az'] = skf.trimf(bulasik_miktari.universe, [0, 0, 30])\n",
        "bulasik_miktari['normal'] = skf.trimf(bulasik_miktari.universe, [10, 30, 60])\n",
        "bulasik_miktari['çok'] = skf.trimf(bulasik_miktari.universe, [50, 60, 100])\n",
        "kirlilik['az'] = skf.trimf(kirlilik.universe, [0, 0, 30])\n",
        "kirlilik['normal'] = skf.trimf(kirlilik.universe, [10, 30, 60])\n",
        "kirlilik['çok'] = skf.trimf(kirlilik.universe, [50, 60, 100])"
      ],
      "metadata": {
        "id": "JdzgBtGZz_nv"
      },
      "execution_count": null,
      "outputs": []
    },
    {
      "cell_type": "code",
      "source": [
        "bulasik_miktari[\"çok\"]"
      ],
      "metadata": {
        "colab": {
          "base_uri": "https://localhost:8080/"
        },
        "id": "A_Ee5TSl0rUL",
        "outputId": "272891cb-a30f-4183-a504-82fa10bd739c"
      },
      "execution_count": null,
      "outputs": [
        {
          "output_type": "execute_result",
          "data": {
            "text/plain": [
              "bulaşık miktarı[çok]"
            ]
          },
          "metadata": {},
          "execution_count": 58
        }
      ]
    },
    {
      "cell_type": "code",
      "source": [
        "yikama['kisa'] = skf.trimf(yikama.universe, [0, 0, 50])\n",
        "yikama['normal'] = skf.trimf(yikama.universe, [40, 50, 100])\n",
        "yikama['uzun'] = skf.trimf(yikama.universe, [60, 80, 180])"
      ],
      "metadata": {
        "id": "oU1P1AiL07se"
      },
      "execution_count": null,
      "outputs": []
    },
    {
      "cell_type": "code",
      "source": [
        "yikama[\"normal\"]"
      ],
      "metadata": {
        "colab": {
          "base_uri": "https://localhost:8080/"
        },
        "id": "D-nClxqZ1hy5",
        "outputId": "f33f9ba2-5cef-4c9a-b963-ee3f41de1fd4"
      },
      "execution_count": null,
      "outputs": [
        {
          "output_type": "execute_result",
          "data": {
            "text/plain": [
              "yıkama süresi[normal]"
            ]
          },
          "metadata": {},
          "execution_count": 61
        }
      ]
    },
    {
      "cell_type": "code",
      "source": [
        "kural1 = cnt.Rule(bulasik_miktari['az'] & kirlilik['az'], yikama['kisa'])\n",
        "kural2 = cnt.Rule(bulasik_miktari['normal'] & kirlilik['az'], yikama['normal'])\n",
        "kural3 = cnt.Rule(bulasik_miktari['çok'] & kirlilik['az'], yikama['normal'])\n",
        "kural4 = cnt.Rule(bulasik_miktari['az'] & kirlilik['normal'], yikama['normal'])\n",
        "kural5 = cnt.Rule(bulasik_miktari['normal'] & kirlilik['normal'], yikama['uzun'])\n",
        "kural6 = cnt.Rule(bulasik_miktari['çok'] & kirlilik['normal'], yikama['uzun'])\n",
        "kural7 = cnt.Rule(bulasik_miktari['az'] & kirlilik['çok'], yikama['normal'])\n",
        "kural8 = cnt.Rule(bulasik_miktari['normal'] & kirlilik['çok'], yikama['uzun'])\n",
        "kural9 = cnt.Rule(bulasik_miktari['çok'] & kirlilik['çok'], yikama['uzun'])"
      ],
      "metadata": {
        "id": "G0vx0ZxP1k_9"
      },
      "execution_count": 64,
      "outputs": []
    },
    {
      "cell_type": "code",
      "source": [
        "\n",
        "bulanıksistem = cnt.ControlSystem([kural1, kural2, kural3, kural4, kural5, kural6, kural7, kural8, kural9])\n",
        "model_sonuc = cnt.ControlSystemSimulation(bulanıksistem) "
      ],
      "metadata": {
        "id": "-nxtMAW74fFP"
      },
      "execution_count": 66,
      "outputs": []
    },
    {
      "cell_type": "code",
      "source": [
        "model_sonuc.input['bulaşık miktarı'] = 100\n",
        "model_sonuc.input['kirlilik seviyesi']= 100"
      ],
      "metadata": {
        "id": "OigNamgN6IuQ"
      },
      "execution_count": 73,
      "outputs": []
    },
    {
      "cell_type": "code",
      "source": [
        "model_sonuc.compute()"
      ],
      "metadata": {
        "id": "MUpf9bps6cLq"
      },
      "execution_count": 74,
      "outputs": []
    },
    {
      "cell_type": "code",
      "source": [
        "print (model_sonuc.output['yıkama süresi'])"
      ],
      "metadata": {
        "colab": {
          "base_uri": "https://localhost:8080/"
        },
        "id": "dybP1q2y6sDE",
        "outputId": "d57bf93b-b13a-43b9-c8c4-607767e93281"
      },
      "execution_count": 75,
      "outputs": [
        {
          "output_type": "stream",
          "name": "stdout",
          "text": [
            "119.40095801634287\n"
          ]
        }
      ]
    },
    {
      "cell_type": "code",
      "source": [
        "import numpy as mat\n",
        "import skfuzzy as mantik\n",
        "from skfuzzy import control as kontrol\n",
        "\n",
        "mesafe = kontrol.Antecedent(mat.arange(0, 50, 1), 'mesafe')\n",
        "hiz = kontrol.Antecedent( mat.arange(0, 100, 1), 'hiz')\n",
        "fren_basinci = kontrol.Consequent(mat.arange(0, 100, 1),'fren_basinci')\n",
        "\n",
        "mesafe['çok yakın'] = mantik.trimf(mesafe.universe, [0, 0, 10])\n",
        "mesafe['yakın'] = mantik.trimf(mesafe.universe, [5, 15, 25])\n",
        "mesafe['uzak'] = mantik.trimf(mesafe.universe, [20, 30, 40])\n",
        "mesafe['çok uzak'] = mantik.trimf(mesafe.universe, [35, 50, 50])\n",
        "\n",
        "hiz['çok yavaş'] = mantik.trapmf(hiz.universe, [0, 0, 20, 30])\n",
        "hiz['yavaş'] = mantik.trapmf(hiz.universe, [20, 30, 45, 55])\n",
        "hiz['hızlı'] = mantik.trapmf(hiz.universe, [45, 55, 70, 80])\n",
        "hiz['çok hızlı'] = mantik.trapmf(hiz.universe, [70, 80, 100,100])\n",
        "\n",
        "fren_basinci['çok düşük'] = mantik.trimf(fren_basinci.universe, [0, 20, 40])\n",
        "fren_basinci['düşük'] = mantik.trimf(fren_basinci.universe, [20, 40, 60])\n",
        "fren_basinci['yüksek'] = mantik.trimf(fren_basinci.universe, [40, 60, 80])\n",
        "fren_basinci['çok yüksek'] = mantik.trimf(fren_basinci.universe, [60, 100, 100])\n",
        "\n",
        "kural1 = kontrol.Rule(mesafe['çok yakın'] & hiz['çok yavaş'] , fren_basinci['çok yüksek'])\n",
        "kural2 = kontrol.Rule(mesafe['yakın'] & hiz['çok yavaş'] , fren_basinci['çok düşük'])\n",
        "kural3 = kontrol.Rule(mesafe['çok yakın'] & hiz['yavaş'] , fren_basinci['çok yüksek'])\n",
        "kural4 = kontrol.Rule(mesafe['yakın'] & hiz['yavaş'] , fren_basinci['düşük'])\n",
        "kural5 = kontrol.Rule(mesafe['uzak'] & hiz['yavaş'] , fren_basinci['çok düşük'])\n",
        "kural6 = kontrol.Rule(mesafe['çok yakın'] & hiz['hızlı'] , fren_basinci['çok yüksek'])\n",
        "kural7 = kontrol.Rule(mesafe['yakın'] & hiz['hızlı'] , fren_basinci['düşük'])\n",
        "kural8 = kontrol.Rule(mesafe['uzak'] & hiz['hızlı'] , fren_basinci['çok düşük'])\n",
        "kural9 = kontrol.Rule(mesafe['çok yakın'] & hiz['çok hızlı'] , fren_basinci['çok yüksek'])\n",
        "kural10 = kontrol.Rule(mesafe['yakın'] & hiz['çok hızlı'] , fren_basinci['yüksek'])\n",
        "kural11 = kontrol.Rule(mesafe['uzak'] & hiz['çok hızlı'] , fren_basinci['düşük'])\n",
        "kural12 = kontrol.Rule(mesafe['çok uzak'] & hiz['çok hızlı'] , fren_basinci['çok düşük'])\n",
        "\n",
        "fren_kontrol = kontrol.ControlSystem([kural1, kural2, kural3, kural4, kural5,kural6,\n",
        "                                       kural7, kural8, kural9, kural10, kural11, kural12])                                    \n",
        "frenleme = kontrol.ControlSystemSimulation(fren_kontrol)\n",
        "\n"
      ],
      "metadata": {
        "id": "ZFGmKbsw60eV"
      },
      "execution_count": 76,
      "outputs": []
    },
    {
      "cell_type": "code",
      "source": [
        "v = int(input(\"Hızı gir (0-100 km/h) : \"))\n",
        "s = int(input(\"mesafeyi gir (m) : \"))\n",
        "frenleme.input['hiz'] = v\n",
        "frenleme.input['mesafe'] = s\n",
        "frenleme.compute()\n",
        "if (v/3<= s):\n",
        "        print (\"fren basılması gerek yoktur\")\n",
        "        print (\"fren basıncı (%): \", frenleme.output['fren_basinci'])\n",
        "else:\n",
        "    \n",
        "    print (\"fren basıncı (%): \", frenleme.output['fren_basinci'])\n",
        "    print (\"yeni hiz değeri: \", v-(v*frenleme.output['fren_basinci']/100))"
      ],
      "metadata": {
        "colab": {
          "base_uri": "https://localhost:8080/"
        },
        "id": "VH9ZWkpW9kim",
        "outputId": "eac37f4c-e6e3-4974-c3ed-f1a337a69389"
      },
      "execution_count": 80,
      "outputs": [
        {
          "output_type": "stream",
          "name": "stdout",
          "text": [
            "Hızı gir (0-100 km/h) : 50\n",
            "mesafeyi gir (m) : 30\n",
            "fren basılması gerek yoktur\n",
            "fren basıncı (%):  20.0\n"
          ]
        }
      ]
    },
    {
      "cell_type": "code",
      "source": [],
      "metadata": {
        "id": "fOiW43ct9lmf"
      },
      "execution_count": null,
      "outputs": []
    }
  ]
}